{
 "cells": [
  {
   "cell_type": "code",
   "execution_count": null,
   "metadata": {},
   "outputs": [],
   "source": [
    "#Neural Circuit Mechanisms Analysis\n"
   ]
  },
  {
   "cell_type": "code",
   "execution_count": null,
   "metadata": {},
   "outputs": [],
   "source": [
    "import os\n",
    "import subprocess\n",
    "\n",
    "# Set your GitHub username and repository name\n",
    "github_username = 'your_github_username'\n",
    "repository_name = 'your_repository_name'\n",
    "\n",
    "# Initialize a new git repository\n",
    "subprocess.run(['git', 'init'])\n",
    "\n",
    "# Add all files to the repository\n",
    "subprocess.run(['git', 'add', '.'])\n",
    "\n",
    "# Commit the files\n",
    "subprocess.run(['git', 'commit', '-m', 'Initial commit'])\n",
    "\n",
    "# Create the repository on GitHub using the GitHub CLI\n",
    "subprocess.run(['gh', 'repo', 'create', repository_name, '--public', '--source=.', '--remote=origin'])\n",
    "\n",
    "# Push the changes to GitHub\n",
    "subprocess.run(['git', 'push', '-u', 'origin', 'main'])"
   ]
  }
 ],
 "metadata": {
  "kernelspec": {
   "display_name": "adaexam",
   "language": "python",
   "name": "python3"
  },
  "language_info": {
   "codemirror_mode": {
    "name": "ipython",
    "version": 3
   },
   "file_extension": ".py",
   "mimetype": "text/x-python",
   "name": "python",
   "nbconvert_exporter": "python",
   "pygments_lexer": "ipython3",
   "version": "3.9.7"
  }
 },
 "nbformat": 4,
 "nbformat_minor": 2
}
